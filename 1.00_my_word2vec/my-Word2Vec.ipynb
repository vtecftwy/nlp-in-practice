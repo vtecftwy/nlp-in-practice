{
 "cells": [
  {
   "cell_type": "markdown",
   "metadata": {},
   "source": [
    "# Getting started with Word2Vec in Gensim and making it work!\n",
    "\n",
    "The idea behind Word2Vec is pretty simple. We are making and assumption that you can tell the meaning of a word by the company it keeps. This is analogous to the saying *show me your friends, and I'll tell who you are*. So if you have two words that have very similar neighbors (i.e. the usage context is about the same), then these words are probably quite similar in meaning or are at least highly related. For example, the words `shocked`,`appalled` and `astonished` are typically used in a similar context. \n",
    "\n",
    "In this tutorial, you will learn how to use the Gensim implementation of Word2Vec and actually get it to work! I have heard a lot of complaints about poor performance etc, but its really a combination of two things, (1) your input data and (2) your parameter settings. Note that the training algorithms in this package were ported from the [original Word2Vec implementation by Google](https://arxiv.org/pdf/1301.3781.pdf) and extended with additional functionality."
   ]
  },
  {
   "cell_type": "markdown",
   "metadata": {},
   "source": [
    "### Imports and logging\n",
    "\n",
    "First, we start with our imports and get logging established:"
   ]
  },
  {
   "cell_type": "code",
   "execution_count": 1,
   "metadata": {},
   "outputs": [
    {
     "name": "stderr",
     "output_type": "stream",
     "text": [
      "D:\\Anaconda3\\envs\\nlp-2\\lib\\site-packages\\gensim\\utils.py:1197: UserWarning: detected Windows; aliasing chunkize to chunkize_serial\n",
      "  warnings.warn(\"detected Windows; aliasing chunkize to chunkize_serial\")\n"
     ]
    }
   ],
   "source": [
    "# imports needed and set up logging\n",
    "import gzip\n",
    "import gensim \n",
    "import logging\n",
    "\n",
    "from pathlib import Path\n",
    "\n",
    "logging.basicConfig(format='%(asctime)s : %(levelname)s : %(message)s', level=logging.INFO)\n"
   ]
  },
  {
   "cell_type": "markdown",
   "metadata": {},
   "source": [
    "### Dataset \n",
    "Next, is our dataset. The secret to getting Word2Vec really working for you is to have lots and lots of text data. In this case I am going to use data from the [OpinRank](http://kavita-ganesan.com/entity-ranking-data/) dataset. This dataset has full user reviews of cars and hotels. I have specifically concatenated all of the hotel reviews into one big file which is about 97MB compressed and 229MB uncompressed. We will use the compressed file for this tutorial. Each line in this file represents a hotel review. You can download the OpinRank Word2Vec dataset here.\n",
    "\n",
    "To avoid confusion, while gensim’s word2vec tutorial says that you need to pass it a sequence of sentences as its input, you can always pass it a whole review as a sentence (i.e. a much larger size of text), and it should not make much of a difference. \n",
    "\n",
    "Now, let's take a closer look at this data below by printing the first line. You can see that this is a pretty hefty review."
   ]
  },
  {
   "cell_type": "code",
   "execution_count": 2,
   "metadata": {},
   "outputs": [],
   "source": [
    "w2v_folder = Path()\n",
    "raw_data_folder = w2v_folder / 'data-raw'\n",
    "models_folder = w2v_folder / 'models'\n",
    "path_to_data_file = raw_data_folder /'reviews_data.txt.gz'\n",
    "\n",
    "create_new_model = False"
   ]
  },
  {
   "cell_type": "code",
   "execution_count": 3,
   "metadata": {},
   "outputs": [],
   "source": [
    "# data_file=str(path_to_data_file.absolute())"
   ]
  },
  {
   "cell_type": "code",
   "execution_count": 4,
   "metadata": {},
   "outputs": [
    {
     "name": "stdout",
     "output_type": "stream",
     "text": [
      "b\"Oct 12 2009 \\tNice trendy hotel location not too bad.\\tI stayed in this hotel for one night. As this is a fairly new place some of the taxi drivers did not know where it was and/or did not want to drive there. Once I have eventually arrived at the hotel, I was very pleasantly surprised with the decor of the lobby/ground floor area. It was very stylish and modern. I found the reception's staff geeting me with 'Aloha' a bit out of place, but I guess they are briefed to say that to keep up the coroporate image.As I have a Starwood Preferred Guest member, I was given a small gift upon-check in. It was only a couple of fridge magnets in a gift box, but nevertheless a nice gesture.My room was nice and roomy, there are tea and coffee facilities in each room and you get two complimentary bottles of water plus some toiletries by 'bliss'.The location is not great. It is at the last metro stop and you then need to take a taxi, but if you are not planning on going to see the historic sites in Beijing, then you will be ok.I chose to have some breakfast in the hotel, which was really tasty and there was a good selection of dishes. There are a couple of computers to use in the communal area, as well as a pool table. There is also a small swimming pool and a gym area.I would definitely stay in this hotel again, but only if I did not plan to travel to central Beijing, as it can take a long time. The location is ok if you plan to do a lot of shopping, as there is a big shopping centre just few minutes away from the hotel and there are plenty of eating options around, including restaurants that serve a dog meat!\\t\\r\\n\"\n"
     ]
    }
   ],
   "source": [
    "with gzip.open (path_to_data_file, 'rb') as f:\n",
    "# with open (data_file, 'rb') as f:\n",
    "    for i,line in enumerate (f):\n",
    "        print(line)\n",
    "        break"
   ]
  },
  {
   "cell_type": "markdown",
   "metadata": {},
   "source": [
    "### Read files into a list\n",
    "Now that we've had a sneak peak of our dataset, we can read it into a list so that we can pass this on to the Word2Vec model. Notice in the code below, that I am directly reading the \n",
    "compressed file. I'm also doing a mild pre-processing of the reviews using `gensim.utils.simple_preprocess (line)`. This does some basic pre-processing such as tokenization, lowercasing, etc and returns back a list of tokens (words). Documentation of this pre-processing method can be found on the official [Gensim documentation site](https://radimrehurek.com/gensim/utils.html). \n",
    "\n"
   ]
  },
  {
   "cell_type": "code",
   "execution_count": 5,
   "metadata": {},
   "outputs": [
    {
     "name": "stderr",
     "output_type": "stream",
     "text": [
      "2019-05-27 19:38:16,941 : INFO : Not reading text files as existing model will be loaded\n"
     ]
    }
   ],
   "source": [
    "def read_input(input_file):\n",
    "    \"\"\"This method reads the input file which is in gzip format\"\"\"\n",
    "    \n",
    "    logging.info(f\"reading file {input_file}...this may take a while\")\n",
    "    \n",
    "    with gzip.open (input_file, 'rb') as f:\n",
    "        for i, line in enumerate (f): \n",
    "\n",
    "            if (i%10000==0):\n",
    "                logging.info (f\"read {i} reviews\")\n",
    "            # do some pre-processing and return a list of words for each review text\n",
    "            yield gensim.utils.simple_preprocess(line)\n",
    "\n",
    "\n",
    "if create_new_model:\n",
    "#   read the tokenized reviews into a list\n",
    "#   each review item becomes a series of words\n",
    "#   so this becomes a list of lists\n",
    "    documents = list (read_input (data_file))\n",
    "    logging.info(\"Done reading data files\")    \n",
    "else: \n",
    "    logging.info('Not reading text files as existing model will be loaded')"
   ]
  },
  {
   "cell_type": "markdown",
   "metadata": {},
   "source": [
    "## Training the Word2Vec model\n",
    "\n",
    "Training the model is fairly straightforward. You just instantiate Word2Vec and pass the reviews that we read in the previous step (the `documents`). So, we are essentially passing on a list of lists. Where each list within the main list contains a set of tokens from a user review. Word2Vec uses all these tokens to internally create a vocabulary. And by vocabulary, I mean a set of unique words.\n",
    "\n",
    "After building the vocabulary, we just need to call `train(...)` to start training the Word2Vec model. Training on the [OpinRank](http://kavita-ganesan.com/entity-ranking-data/) dataset takes about 10 minutes so please be patient while running your code on this dataset.\n",
    "\n",
    "Behind the scenes we are actually training a simple neural network with a single hidden layer. But, we are actually not going to use the neural network after training. Instead, the goal is to learn the weights of the hidden layer. These weights are essentially the word vectors that we’re trying to learn. "
   ]
  },
  {
   "cell_type": "code",
   "execution_count": 6,
   "metadata": {
    "scrolled": false
   },
   "outputs": [
    {
     "name": "stderr",
     "output_type": "stream",
     "text": [
      "2019-05-27 19:38:33,552 : INFO : loading Word2Vec object from D:\\PyProjects\\_references_nb\\10_ml-stats-applications\\nlp-00-nlp-in-practive\\1.00_my_word2vec\\models\\hotel-reviews-152-01.model\n",
      "2019-05-27 19:38:33,724 : INFO : loading wv recursively from D:\\PyProjects\\_references_nb\\10_ml-stats-applications\\nlp-00-nlp-in-practive\\1.00_my_word2vec\\models\\hotel-reviews-152-01.model.wv.* with mmap=None\n",
      "2019-05-27 19:38:33,725 : INFO : loading vectors from D:\\PyProjects\\_references_nb\\10_ml-stats-applications\\nlp-00-nlp-in-practive\\1.00_my_word2vec\\models\\hotel-reviews-152-01.model.wv.vectors.npy with mmap=None\n",
      "2019-05-27 19:38:33,754 : INFO : setting ignored attribute vectors_norm to None\n",
      "2019-05-27 19:38:33,755 : INFO : loading vocabulary recursively from D:\\PyProjects\\_references_nb\\10_ml-stats-applications\\nlp-00-nlp-in-practive\\1.00_my_word2vec\\models\\hotel-reviews-152-01.model.vocabulary.* with mmap=None\n",
      "2019-05-27 19:38:33,755 : INFO : loading trainables recursively from D:\\PyProjects\\_references_nb\\10_ml-stats-applications\\nlp-00-nlp-in-practive\\1.00_my_word2vec\\models\\hotel-reviews-152-01.model.trainables.* with mmap=None\n",
      "2019-05-27 19:38:33,756 : INFO : loading syn1neg from D:\\PyProjects\\_references_nb\\10_ml-stats-applications\\nlp-00-nlp-in-practive\\1.00_my_word2vec\\models\\hotel-reviews-152-01.model.trainables.syn1neg.npy with mmap=None\n",
      "2019-05-27 19:38:33,792 : INFO : setting ignored attribute cum_table to None\n",
      "2019-05-27 19:38:33,793 : INFO : loaded D:\\PyProjects\\_references_nb\\10_ml-stats-applications\\nlp-00-nlp-in-practive\\1.00_my_word2vec\\models\\hotel-reviews-152-01.model\n"
     ]
    }
   ],
   "source": [
    "vector_size = 152\n",
    "\n",
    "path_to_save_model = models_folder / f'hotel-reviews-{vector_size}-01.model'\n",
    "path_to_load_model = models_folder / f'hotel-reviews-{vector_size}-01.model'\n",
    "\n",
    "str_to_save_model = str(path_to_save_model.absolute())\n",
    "str_to_load_model = str(path_to_load_model.absolute())\n",
    "\n",
    "if create_new_model:\n",
    "    model = gensim.models.Word2Vec (documents, size=vector_size, window=10, min_count=2, workers=10)\n",
    "    model.train(documents,total_examples=len(documents),epochs=10)\n",
    "    model.save(str_to_save_model)\n",
    "else:\n",
    "    model = gensim.models.Word2Vec.load(str_to_load_model)"
   ]
  },
  {
   "cell_type": "markdown",
   "metadata": {},
   "source": [
    "Save the trained model"
   ]
  },
  {
   "cell_type": "markdown",
   "metadata": {},
   "source": [
    "Word2Vec has several components: the full model (just saved) but also the **KeyedVectors** accessible by `model.wv` and that is the matrix of all the trained word vectors (one set of weight for each word in vocabulary. In this case, this is 152 weight as the model was trained with `size=152`. `model.wv` is more compact than the full model "
   ]
  },
  {
   "cell_type": "code",
   "execution_count": 7,
   "metadata": {
    "scrolled": false
   },
   "outputs": [
    {
     "name": "stdout",
     "output_type": "stream",
     "text": [
      "Each word such as <dirty> is represented by 152 weights. Example:\n"
     ]
    },
    {
     "data": {
      "text/plain": [
       "array([ 0.93197924,  0.5105132 ,  2.2606149 , -3.1462505 , -0.8515029 ,\n",
       "        4.1018205 ,  1.910454  , -0.5651825 ,  0.12677635,  3.6665273 ,\n",
       "       -0.7763401 , -2.694595  ,  1.9538004 ,  2.5295408 , -1.0050497 ,\n",
       "       -0.60198313,  0.7992244 , -0.57420427, -3.8793583 ,  0.7293769 ,\n",
       "        3.5143297 , -5.7852254 ,  0.04295096,  2.815917  , -0.84027684,\n",
       "       -0.8289401 , -2.201959  ,  1.2326481 , -4.1024055 , -1.531972  ,\n",
       "        6.165753  ,  0.34523195,  0.7494303 ,  3.4426212 , -4.784218  ,\n",
       "        0.10629007,  0.35603303, -2.3511071 ,  1.8411856 , -4.230956  ,\n",
       "        0.14763859, -2.1860747 ,  1.1594225 , -3.1501563 ,  0.8527438 ,\n",
       "        0.56384283, -4.7642007 , -2.5231395 ,  1.3898998 , -0.39603552,\n",
       "       -3.28744   , -0.38484225,  4.3891683 ,  1.1029959 ,  0.9481255 ,\n",
       "       -2.959008  ,  0.6458025 ,  1.7236764 , -0.4991107 , -2.8156686 ,\n",
       "       -1.9842317 ,  0.8331184 , -0.35104042, -2.0710475 , -1.9407701 ,\n",
       "       -1.0832196 ,  1.9560636 ,  0.8210384 ,  1.3318613 ,  2.431767  ,\n",
       "        2.711106  , -0.3144035 ,  1.0773919 ,  2.0476286 ,  0.0846881 ,\n",
       "        2.9070473 , -1.9723234 ,  4.7519717 , -3.1247056 ,  0.39457455,\n",
       "        1.3218375 ,  2.0182137 ,  1.4426795 ,  1.0447791 , -2.3016987 ,\n",
       "        4.5227404 ,  2.0304549 ,  0.36572874, -0.38979122, -3.4066505 ,\n",
       "        0.02701957,  0.01279011,  5.380427  , -4.0652823 ,  1.0479014 ,\n",
       "        1.5250924 , -1.776833  ,  3.4056163 , -0.3318563 ,  1.6403315 ,\n",
       "        2.351889  ,  1.3497267 , -0.98587364, -1.397032  ,  1.1099861 ,\n",
       "        2.562899  , -1.9797989 , -1.3300555 , -1.3188934 ,  0.9938518 ,\n",
       "       -2.3426907 ,  0.7290264 ,  4.109938  , -1.8149728 ,  1.5275432 ,\n",
       "       -0.579053  , -1.9054728 ,  1.1897482 , -0.12112595, -0.42819622,\n",
       "        2.3401186 ,  0.20700392,  0.08197246,  2.7824008 , -0.14250334,\n",
       "       -0.5227337 ,  1.4541807 ,  4.2333384 , -1.8798615 ,  0.9700295 ,\n",
       "        0.37331304,  1.255964  ,  2.2410264 ,  3.431647  ,  1.4663665 ,\n",
       "        2.3142202 ,  0.5921686 , -0.71802247, -0.43825224,  0.35480583,\n",
       "        2.6536498 , -0.46094617,  0.80292207,  1.3791069 , -4.2166934 ,\n",
       "        0.40867898,  1.0988019 ,  1.4187992 ,  1.2792853 ,  3.9665735 ,\n",
       "        2.3360357 , -0.37755015], dtype=float32)"
      ]
     },
     "metadata": {},
     "output_type": "display_data"
    }
   ],
   "source": [
    "word = 'dirty'\n",
    "keyedvectors = model.wv[word]\n",
    "print(f'Each word such as <{word}> is represented by {len(keyedvectors)} weights. Example:')\n",
    "display(keyedvectors)"
   ]
  },
  {
   "cell_type": "markdown",
   "metadata": {},
   "source": [
    "## Now, let's look at some output \n",
    "This first example shows a simple case of looking up words similar to the word `dirty`. All we need to do here is to call the `most_similar` function and provide the word `dirty` as the positive example. This returns the top 10 similar words. "
   ]
  },
  {
   "cell_type": "code",
   "execution_count": 29,
   "metadata": {},
   "outputs": [
    {
     "name": "stderr",
     "output_type": "stream",
     "text": [
      "2019-05-11 10:54:12,597 : INFO : precomputing L2-norms of word weight vectors\n"
     ]
    },
    {
     "data": {
      "text/plain": [
       "[('filthy', 0.8638341426849365),\n",
       " ('unclean', 0.7788464426994324),\n",
       " ('stained', 0.7784373760223389),\n",
       " ('grubby', 0.7623147964477539),\n",
       " ('dusty', 0.760489284992218),\n",
       " ('smelly', 0.7517919540405273),\n",
       " ('dingy', 0.7328144311904907),\n",
       " ('disgusting', 0.721342146396637),\n",
       " ('mouldy', 0.7155332565307617),\n",
       " ('gross', 0.7071250081062317)]"
      ]
     },
     "execution_count": 29,
     "metadata": {},
     "output_type": "execute_result"
    }
   ],
   "source": [
    "w1 = \"dirty\"\n",
    "model.wv.most_similar (positive=w1)"
   ]
  },
  {
   "cell_type": "markdown",
   "metadata": {},
   "source": [
    "That looks pretty good, right? Let's look at a few more. Let's look at similarity for `polite`, `france` and `shocked`. "
   ]
  },
  {
   "cell_type": "code",
   "execution_count": 8,
   "metadata": {},
   "outputs": [
    {
     "name": "stderr",
     "output_type": "stream",
     "text": [
      "2019-05-27 19:39:19,291 : INFO : precomputing L2-norms of word weight vectors\n"
     ]
    },
    {
     "data": {
      "text/plain": [
       "[('courteous', 0.9179747104644775),\n",
       " ('friendly', 0.8312869071960449),\n",
       " ('cordial', 0.8024935722351074),\n",
       " ('professional', 0.7896497249603271),\n",
       " ('curteous', 0.7840185761451721),\n",
       " ('attentive', 0.7761869430541992)]"
      ]
     },
     "execution_count": 8,
     "metadata": {},
     "output_type": "execute_result"
    }
   ],
   "source": [
    "# look up top 6 words similar to 'polite'\n",
    "w1 = [\"polite\"]\n",
    "model.wv.most_similar (positive=w1, topn=6)"
   ]
  },
  {
   "cell_type": "code",
   "execution_count": 9,
   "metadata": {},
   "outputs": [
    {
     "data": {
      "text/plain": [
       "[('spain', 0.6637556552886963),\n",
       " ('canada', 0.6535975933074951),\n",
       " ('germany', 0.6516804099082947),\n",
       " ('barcelona', 0.6219171285629272),\n",
       " ('rome', 0.6058337688446045),\n",
       " ('england', 0.6040583848953247)]"
      ]
     },
     "execution_count": 9,
     "metadata": {},
     "output_type": "execute_result"
    }
   ],
   "source": [
    "# look up top 6 words similar to 'france'\n",
    "w1 = [\"france\"]\n",
    "model.wv.most_similar (positive=w1,topn=6)\n"
   ]
  },
  {
   "cell_type": "code",
   "execution_count": 10,
   "metadata": {},
   "outputs": [
    {
     "data": {
      "text/plain": [
       "[('horrified', 0.8222155570983887),\n",
       " ('amazed', 0.7932467460632324),\n",
       " ('astonished', 0.7825183868408203),\n",
       " ('appalled', 0.7789210081100464),\n",
       " ('dismayed', 0.7773011922836304),\n",
       " ('stunned', 0.7551657557487488)]"
      ]
     },
     "execution_count": 10,
     "metadata": {},
     "output_type": "execute_result"
    }
   ],
   "source": [
    "# look up top 6 words similar to 'shocked'\n",
    "w1 = [\"shocked\"]\n",
    "model.wv.most_similar (positive=w1,topn=6)\n"
   ]
  },
  {
   "cell_type": "markdown",
   "metadata": {},
   "source": [
    "That's, nice. You can even specify several positive examples to get things that are related in the provided context and provide negative examples to say what should not be considered as related. In the example below we are asking for all items that *relate to bed* only:"
   ]
  },
  {
   "cell_type": "code",
   "execution_count": 11,
   "metadata": {},
   "outputs": [
    {
     "data": {
      "text/plain": [
       "[('mattress', 0.7097318768501282),\n",
       " ('duvet', 0.706474244594574),\n",
       " ('matress', 0.6960698366165161),\n",
       " ('quilt', 0.6954215168952942),\n",
       " ('blanket', 0.6837774515151978),\n",
       " ('pillowcase', 0.644959568977356),\n",
       " ('foam', 0.6408494114875793),\n",
       " ('sheets', 0.6368979811668396),\n",
       " ('pillows', 0.6310677528381348),\n",
       " ('pillowcases', 0.6079158782958984)]"
      ]
     },
     "execution_count": 11,
     "metadata": {},
     "output_type": "execute_result"
    }
   ],
   "source": [
    "# get everything related to stuff on the bed\n",
    "w1 = [\"bed\",'sheet','pillow']\n",
    "w2 = ['couch']\n",
    "model.wv.most_similar (positive=w1,negative=w2,topn=10)\n"
   ]
  },
  {
   "cell_type": "markdown",
   "metadata": {},
   "source": [
    "### Similarity between two words in the vocabulary"
   ]
  },
  {
   "cell_type": "markdown",
   "metadata": {},
   "source": [
    "You can even use the Word2Vec model to return the similarity between two words that are present in the vocabulary. "
   ]
  },
  {
   "cell_type": "code",
   "execution_count": 12,
   "metadata": {},
   "outputs": [
    {
     "data": {
      "text/plain": [
       "0.7625367507867546"
      ]
     },
     "execution_count": 12,
     "metadata": {},
     "output_type": "execute_result"
    }
   ],
   "source": [
    "# similarity between two different words\n",
    "model.wv.similarity(w1=\"dirty\",w2=\"smelly\")"
   ]
  },
  {
   "cell_type": "code",
   "execution_count": 13,
   "metadata": {},
   "outputs": [
    {
     "data": {
      "text/plain": [
       "1.0"
      ]
     },
     "execution_count": 13,
     "metadata": {},
     "output_type": "execute_result"
    }
   ],
   "source": [
    "# similarity between two identical words\n",
    "model.wv.similarity(w1=\"dirty\",w2=\"dirty\")"
   ]
  },
  {
   "cell_type": "code",
   "execution_count": 14,
   "metadata": {},
   "outputs": [
    {
     "data": {
      "text/plain": [
       "0.2685083373940712"
      ]
     },
     "execution_count": 14,
     "metadata": {},
     "output_type": "execute_result"
    }
   ],
   "source": [
    "# similarity between two unrelated words\n",
    "model.wv.similarity(w1=\"dirty\",w2=\"clean\")"
   ]
  },
  {
   "cell_type": "markdown",
   "metadata": {},
   "source": [
    "Under the hood, the above three snippets computes the cosine similarity between the two specified words using word vectors of each. From the scores, it makes sense that `dirty` is highly similar to `smelly` but `dirty` is dissimilar to `clean`. If you do a similarity between two identical words, the score will be 1.0 as the range of the cosine similarity score will always be between [0.0-1.0]. You can read more about cosine similarity scoring [here](https://en.wikipedia.org/wiki/Cosine_similarity)."
   ]
  },
  {
   "cell_type": "markdown",
   "metadata": {},
   "source": [
    "### Find the odd one out\n",
    "You can even use Word2Vec to find odd items given a list of items."
   ]
  },
  {
   "cell_type": "code",
   "execution_count": 15,
   "metadata": {},
   "outputs": [
    {
     "data": {
      "text/plain": [
       "'france'"
      ]
     },
     "execution_count": 15,
     "metadata": {},
     "output_type": "execute_result"
    }
   ],
   "source": [
    "# Which one is the odd one out in this list?\n",
    "model.wv.doesnt_match([\"cat\",\"dog\",\"france\"])"
   ]
  },
  {
   "cell_type": "code",
   "execution_count": 16,
   "metadata": {},
   "outputs": [
    {
     "data": {
      "text/plain": [
       "'shower'"
      ]
     },
     "execution_count": 16,
     "metadata": {},
     "output_type": "execute_result"
    }
   ],
   "source": [
    "# Which one is the odd one out in this list?\n",
    "model.wv.doesnt_match([\"bed\",\"pillow\",\"duvet\",\"shower\"])\n"
   ]
  },
  {
   "cell_type": "markdown",
   "metadata": {},
   "source": [
    "## Understanding some of the parameters\n",
    "To train the model earlier, we had to set some parameters. Now, let's try to understand what some of them mean. For reference, this is the command that we used to train the model.\n",
    "\n",
    "```\n",
    "model = gensim.models.Word2Vec (documents, size=150, window=10, min_count=2, workers=10)\n",
    "```\n",
    "\n",
    "### `size`\n",
    "The size of the dense vector to represent each token or word. If you have very limited data, then size should be a much smaller value. If you have lots of data, its good to experiment with various sizes. A value of 100-150 has worked well for me. \n",
    "\n",
    "### `window`\n",
    "The maximum distance between the target word and its neighboring word. If your neighbor's position is greater than the maximum window width to the left and the right, then, some neighbors are not considered as being related to the target word. In theory, a smaller window should give you terms that are more related. If you have lots of data, then the window size should not matter too much, as long as its a decent sized window. \n",
    "\n",
    "### `min_count`\n",
    "Minimium frequency count of words. The model would ignore words that do not statisfy the `min_count`. Extremely infrequent words are usually unimportant, so its best to get rid of those. Unless your dataset is really tiny, this does not really affect the model.\n",
    "\n",
    "### `workers`\n",
    "How many threads to use behind the scenes?\n"
   ]
  },
  {
   "cell_type": "markdown",
   "metadata": {},
   "source": [
    "## When should you use Word2Vec?\n",
    "\n",
    "There are many application scenarios for Word2Vec. Imagine if you need to build a sentiment lexicon. Training a Word2Vec model on large amounts of user reviews helps you achieve that. You have a lexicon for not just sentiment, but for most words in the vocabulary. \n",
    "\n",
    "Beyond, raw unstructured text data, you could also use Word2Vec for more structured data. For example, if you had tags for a million stackoverflow questions and answers, you could find tags that are related to a given tag and recommend the related ones for exploration. You can do this by treating each set of co-occuring tags as a \"sentence\" and train a Word2Vec model on this data. Granted, you still need a large number of examples to make it work. \n"
   ]
  }
 ],
 "metadata": {
  "kernelspec": {
   "display_name": "Python 3",
   "language": "python",
   "name": "python3"
  },
  "language_info": {
   "codemirror_mode": {
    "name": "ipython",
    "version": 3
   },
   "file_extension": ".py",
   "mimetype": "text/x-python",
   "name": "python",
   "nbconvert_exporter": "python",
   "pygments_lexer": "ipython3",
   "version": "3.6.6"
  }
 },
 "nbformat": 4,
 "nbformat_minor": 2
}
